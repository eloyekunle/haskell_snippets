{
 "cells": [
  {
   "cell_type": "markdown",
   "metadata": {},
   "source": [
    "We want to identfy a relation which represents a valid function. Given a set of unique $(x,y)$ ordered pairs, where the $x$-values form the domain and the $y$-values form the range they map to.  \n",
    "Valid functions will be those where each element in the domain maps to _one and only one_ value in the range. Note however, that an element in the range can be mapped to by more than one element in the domain.  \n",
    "Our function will take in a list of tuples, and return a boolean **True** if the function is valid, and **False** if not."
   ]
  },
  {
   "cell_type": "code",
   "execution_count": 19,
   "metadata": {},
   "outputs": [],
   "source": [
    "import Control.Monad\n",
    "readInt x = read x :: Int\n",
    "\n",
    "main = do\n",
    "    t <- fmap readInt getLine\n",
    "    forM [1..t] (\\_ -> do\n",
    "        n <- fmap readInt getLine\n",
    "        func <- forM [1..n] (\\_ -> do\n",
    "            fmap ((\\[x,y] -> (x,y)) . map readInt . words) getLine :: IO (Int, Int))\n",
    "        print func)"
   ]
  },
  {
   "cell_type": "code",
   "execution_count": null,
   "metadata": {},
   "outputs": [],
   "source": []
  }
 ],
 "metadata": {
  "kernelspec": {
   "display_name": "Haskell",
   "language": "haskell",
   "name": "haskell"
  },
  "language_info": {
   "codemirror_mode": "ihaskell",
   "file_extension": ".hs",
   "name": "haskell",
   "pygments_lexer": "Haskell",
   "version": "8.2.2"
  }
 },
 "nbformat": 4,
 "nbformat_minor": 2
}
