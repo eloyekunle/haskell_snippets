{
 "cells": [
  {
   "cell_type": "markdown",
   "metadata": {},
   "source": [
    "We'll explore some ways to carry out some List operations in Hasell.  \n",
    "Specifically, we'll write functions that repeat each element of a list a specific (`n`) number of times."
   ]
  },
  {
   "cell_type": "markdown",
   "metadata": {},
   "source": [
    "Our function signature. They take in an integer `n` and a List of integers, and return a list of integers."
   ]
  },
  {
   "cell_type": "code",
   "execution_count": 5,
   "metadata": {},
   "outputs": [],
   "source": [
    "type RepElms = Int -> [Int] -> [Int]"
   ]
  },
  {
   "cell_type": "markdown",
   "metadata": {},
   "source": [
    "### Doing it Bottom-Up"
   ]
  },
  {
   "cell_type": "code",
   "execution_count": 3,
   "metadata": {},
   "outputs": [],
   "source": [
    "rep :: Int -> Int -> [Int]\n",
    "rep n x =\n",
    "  if n == 1\n",
    "    then [x]\n",
    "    else x : rep (n-1) x"
   ]
  },
  {
   "cell_type": "markdown",
   "metadata": {},
   "source": [
    "- Using Recursion"
   ]
  },
  {
   "cell_type": "code",
   "execution_count": 6,
   "metadata": {},
   "outputs": [
    {
     "data": {
      "text/plain": [
       "[2,2,2,4,4,4,6,6,6,8,8,8,10,10,10,12,12,12,14,14,14]"
      ]
     },
     "metadata": {},
     "output_type": "display_data"
    }
   ],
   "source": [
    "f :: RepElms\n",
    "f _ [] = []\n",
    "f n (x:xs) =\n",
    "  if null xs\n",
    "    then rep n x\n",
    "  else rep n x ++ f n xs\n",
    "  \n",
    "f 3 [2,4,6,8,10,12,14]"
   ]
  },
  {
   "cell_type": "markdown",
   "metadata": {},
   "source": [
    "- Using `replicate`"
   ]
  },
  {
   "cell_type": "code",
   "execution_count": 7,
   "metadata": {},
   "outputs": [
    {
     "data": {
      "text/plain": [
       "[1,1,5,5,9,9]"
      ]
     },
     "metadata": {},
     "output_type": "display_data"
    }
   ],
   "source": [
    "f2 :: RepElms\n",
    "f2 _ [] = []\n",
    "f2 n (x:xs) =\n",
    "  if null xs\n",
    "    then replicate n x\n",
    "  else rep n x ++ f2 n xs\n",
    "\n",
    "f2 2 [1,5,9]"
   ]
  },
  {
   "cell_type": "markdown",
   "metadata": {},
   "source": [
    "### Using `concatMap` with `replicate`"
   ]
  },
  {
   "cell_type": "code",
   "execution_count": 8,
   "metadata": {},
   "outputs": [
    {
     "data": {
      "text/plain": [
       "[2,2,2,2,4,4,4,4]"
      ]
     },
     "metadata": {},
     "output_type": "display_data"
    }
   ],
   "source": [
    "f3 :: RepElms\n",
    "f3 n = concatMap (replicate n)\n",
    "\n",
    "f3 4 [2,4]"
   ]
  },
  {
   "cell_type": "code",
   "execution_count": 9,
   "metadata": {},
   "outputs": [
    {
     "data": {
      "text/plain": [
       "[9,9,10,10]"
      ]
     },
     "metadata": {},
     "output_type": "display_data"
    }
   ],
   "source": [
    "f5 :: RepElms\n",
    "f5 = concatMap . replicate\n",
    "\n",
    "f5 2 [9, 10]"
   ]
  },
  {
   "cell_type": "code",
   "execution_count": 10,
   "metadata": {},
   "outputs": [
    {
     "data": {
      "text/plain": [
       "[5,5,5,5,5,6,6,6,6,6]"
      ]
     },
     "metadata": {},
     "output_type": "display_data"
    }
   ],
   "source": [
    "f6 :: RepElms\n",
    "f6 n arr = arr >>= replicate n\n",
    "\n",
    "f6 5 [5, 6]"
   ]
  },
  {
   "cell_type": "markdown",
   "metadata": {},
   "source": [
    "### Using Nested ListComps"
   ]
  },
  {
   "cell_type": "code",
   "execution_count": 11,
   "metadata": {},
   "outputs": [
    {
     "data": {
      "text/plain": [
       "[7,7,7,4,4,4]"
      ]
     },
     "metadata": {},
     "output_type": "display_data"
    }
   ],
   "source": [
    "f4 :: RepElms\n",
    "f4 n arr =\n",
    "  [num | num <- arr, _ <- [1..n]]\n",
    "  \n",
    "f4 3 [7, 4]"
   ]
  }
 ],
 "metadata": {
  "kernelspec": {
   "display_name": "Haskell",
   "language": "haskell",
   "name": "haskell"
  },
  "language_info": {
   "codemirror_mode": "ihaskell",
   "file_extension": ".hs",
   "name": "haskell",
   "pygments_lexer": "Haskell",
   "version": "8.2.2"
  }
 },
 "nbformat": 4,
 "nbformat_minor": 2
}
