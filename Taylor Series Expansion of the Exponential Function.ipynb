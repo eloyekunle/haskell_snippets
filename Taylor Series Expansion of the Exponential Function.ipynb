{
 "cells": [
  {
   "cell_type": "markdown",
   "metadata": {},
   "source": [
    "Computing the [Exponential Function](https://en.wikipedia.org/wiki/Exponential_function) using its [Taylor Series](https://en.wikipedia.org/wiki/Taylor_series) expansion. We'll use the first 10 terms of the Taylor Series expansion.  \n",
    "[Inspired by HackerRank](https://www.hackerrank.com/challenges/eval-ex/problem).\n",
    "\n",
    "First, we write a simple helper to compute the factorial of a number. [An interesting (funny) article](http://www.willamette.edu/~fruehr/haskell/evolution.html) on computing factorials in Haskell."
   ]
  },
  {
   "cell_type": "code",
   "execution_count": 30,
   "metadata": {},
   "outputs": [],
   "source": [
    "fact n = product [1..n]"
   ]
  },
  {
   "cell_type": "markdown",
   "metadata": {},
   "source": [
    "### Recursive, No Built-Ins"
   ]
  },
  {
   "cell_type": "markdown",
   "metadata": {},
   "source": [
    "Next, we write the actual series expansion using recursion."
   ]
  },
  {
   "cell_type": "code",
   "execution_count": 31,
   "metadata": {},
   "outputs": [],
   "source": [
    "expSeries' _ 0 = 1\n",
    "expSeries' x n = ((x ** n) / fact n) + expSeries' x (n - 1)\n",
    "\n",
    "expSeries x = expSeries' x 9"
   ]
  },
  {
   "cell_type": "markdown",
   "metadata": {},
   "source": [
    "### Using ListComp\n",
    "We can rewrite `expSeries` using a **list comprehension**, like so:"
   ]
  },
  {
   "cell_type": "code",
   "execution_count": 42,
   "metadata": {},
   "outputs": [],
   "source": [
    "expSeries2 x = sum [(x**n) / fact n | n <- [0..9]]"
   ]
  },
  {
   "cell_type": "markdown",
   "metadata": {},
   "source": [
    "A Comparison of `expSeries` and built-in `exp` for the first 15 positive integers.  \n",
    "It's interesting to watch the divergence."
   ]
  },
  {
   "cell_type": "code",
   "execution_count": 60,
   "metadata": {},
   "outputs": [
    {
     "data": {
      "text/plain": [
       "(2.7182815255731922,2.718281828459045)\n",
       "(7.3887125220458545,7.38905609893065)\n",
       "(20.063392857142855,20.085536923187668)\n",
       "(54.15414462081129,54.598150033144236)\n",
       "(143.68945656966488,148.4131591025766)\n",
       "(369.57142857142856,403.4287934927351)\n",
       "(910.7493827160494,1096.6331584284585)\n",
       "(2136.226807760141,2980.9579870417283)\n",
       "(4759.818303571429,8103.083927575384)\n",
       "(10086.573192239859,22026.465794806718)\n",
       "(20387.782462522046,59874.14171519782)\n",
       "(39450.485714285714,162754.79141900392)\n",
       "(73357.3947696208,442413.3920089205)\n",
       "(131564.15061728394,1202604.2841647768)\n",
       "(228352.83035714284,3269017.3724721107)"
      ]
     },
     "metadata": {},
     "output_type": "display_data"
    }
   ],
   "source": [
    "l = [1..15]\n",
    "mapM_ print (zip (map expSeries2 l) (map exp l))"
   ]
  }
 ],
 "metadata": {
  "kernelspec": {
   "display_name": "Haskell",
   "language": "haskell",
   "name": "haskell"
  },
  "language_info": {
   "codemirror_mode": "ihaskell",
   "file_extension": ".hs",
   "name": "haskell",
   "pygments_lexer": "Haskell",
   "version": "8.4.3"
  }
 },
 "nbformat": 4,
 "nbformat_minor": 2
}
