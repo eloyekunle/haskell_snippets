{
 "cells": [
  {
   "cell_type": "markdown",
   "metadata": {},
   "source": [
    "The area under the curve $y = f(x)$ between the limits $a$ and $b$ can be calculated using the [Limit Definition of a Definite Integral](https://www.math.ucdavis.edu/~kouba/CalcTwoDIRECTORY/defintdirectory/).  \n",
    "\n",
    "First we write a function that calculates the Integral of an arbitrary number using equal subintervals of length 0.001."
   ]
  },
  {
   "cell_type": "code",
   "execution_count": 53,
   "metadata": {},
   "outputs": [],
   "source": [
    "integral f l r = sum [f i * dx | i <- [l, l+dx .. r]] where dx=0.001"
   ]
  },
  {
   "cell_type": "markdown",
   "metadata": {},
   "source": [
    "Testing `integral` on function $y = x^2$ between limits 0 and 10:"
   ]
  },
  {
   "cell_type": "code",
   "execution_count": 76,
   "metadata": {},
   "outputs": [
    {
     "data": {
      "text/plain": [
       "333.3833350000318"
      ]
     },
     "metadata": {},
     "output_type": "display_data"
    }
   ],
   "source": [
    "f = integral (**2)\n",
    "f 0.0 10.0"
   ]
  },
  {
   "cell_type": "markdown",
   "metadata": {},
   "source": [
    "Next, we write a function to rotate a polynomial about the x-axis. It takes in an arbitrary function, and rotates it about the x-axis."
   ]
  },
  {
   "cell_type": "code",
   "execution_count": 72,
   "metadata": {},
   "outputs": [],
   "source": [
    "rotate f x = y * y * pi where y = f x"
   ]
  },
  {
   "cell_type": "markdown",
   "metadata": {},
   "source": [
    "`poly` evaluates a polynomial."
   ]
  },
  {
   "cell_type": "code",
   "execution_count": 73,
   "metadata": {},
   "outputs": [],
   "source": [
    "poly :: [Double] -> [Double] -> Double -> Double\n",
    "poly a b x = sum [j * (x ** k) | (j, k) <- zip a b]"
   ]
  },
  {
   "cell_type": "markdown",
   "metadata": {},
   "source": [
    "`solve` takes in the lower (`l`) and upper (`r`) limits of the function, as well as a list of "
   ]
  },
  {
   "cell_type": "code",
   "execution_count": 74,
   "metadata": {},
   "outputs": [],
   "source": [
    "-- solve :: Int -> Int -> [Int] -> [Int] -> [Double]\n",
    "solve l r a b = [integral (poly a b) l r, integral (rotate (poly a b)) l r]"
   ]
  },
  {
   "cell_type": "code",
   "execution_count": 75,
   "metadata": {},
   "outputs": [
    {
     "data": {
      "text/plain": [
       "[2435300.3406283036,2.6172951168899348e13]"
      ]
     },
     "metadata": {},
     "output_type": "display_data"
    }
   ],
   "source": [
    "solve 1 4 [1, 2, 3, 4, 5] [6, 7, 8, 9, 10]"
   ]
  },
  {
   "cell_type": "code",
   "execution_count": 28,
   "metadata": {},
   "outputs": [
    {
     "data": {
      "text/plain": [
       "[(1,3),(2,4)]"
      ]
     },
     "metadata": {},
     "output_type": "display_data"
    }
   ],
   "source": [
    "a = [1,2]\n",
    "b = [3,4]\n",
    "[(j,k) | (j,k) <- zip a b]"
   ]
  }
 ],
 "metadata": {
  "kernelspec": {
   "display_name": "Haskell",
   "language": "haskell",
   "name": "haskell"
  },
  "language_info": {
   "codemirror_mode": "ihaskell",
   "file_extension": ".hs",
   "name": "haskell",
   "pygments_lexer": "Haskell",
   "version": "8.2.2"
  }
 },
 "nbformat": 4,
 "nbformat_minor": 2
}
